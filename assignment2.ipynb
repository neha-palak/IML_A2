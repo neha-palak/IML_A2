{
 "cells": [
  {
   "cell_type": "markdown",
   "id": "471fd8a1",
   "metadata": {},
   "source": [
    "# TASK 1: Introduction\n",
    "\n",
    "## **Dataset Descriptions**\n",
    "\n",
    "### SYNTHETIC CIRCLES:\n",
    "\n",
    "The **Synthetic Circle dataset** contains **10,000 points** arranged into **100 circular clusters**, each with 100 points.\n",
    "Each data point has two numeric coordinates, `x` and `y`,and a **class label** that indicates which circle it belongs to.\n",
    "\n",
    "* **Features:**\n",
    "\n",
    "  * `x` → X-coordinate (continuous)\n",
    "  * `y` → Y-coordinate (continuous)\n",
    "\n",
    "* **Target:**\n",
    "\n",
    "  * `class` → Integer label for the circle (0–99)\n",
    "\n",
    "This dataset is mainly used to test how well **clustering algorithms** can identify circular or non-linear groupings.\n",
    "\n",
    "\n",
    "**What “conflicting” means**\n",
    "\n",
    "In this context, **“conflicting”** usually refers to **overlapping or hard-to-separate clusters**,\n",
    "that is, when points from different circles lie close to each other or overlap in space.\n",
    "\n",
    "Such conflicts make it **difficult for a clustering algorithm** to clearly distinguish which circle a point belongs to.\n",
    "\n",
    "\n",
    "### BANK MARKETING:\n",
    "\n",
    "\n",
    "## **Objective**\n",
    "To apply and compare clustering algorithms on two real-world and synthetic datasets, explore the impact of dimensionality reduction on clustering performance, and develop skills in data preprocessing, visualization, and interpretation of results."
   ]
  },
  {
   "cell_type": "markdown",
   "id": "07f398a9",
   "metadata": {},
   "source": [
    "# TASK 2: Exploratory Data Analysis (EDA)"
   ]
  },
  {
   "cell_type": "code",
   "execution_count": 10,
   "id": "44cd4af3",
   "metadata": {},
   "outputs": [
    {
     "name": "stdout",
     "output_type": "stream",
     "text": [
      "/Users/nehapalak/.pyenv/versions/3.9.13/bin/python\n",
      "Python 3.9.13\n"
     ]
    }
   ],
   "source": [
    "!which python\n",
    "!python --version\n"
   ]
  },
  {
   "cell_type": "code",
   "execution_count": 11,
   "id": "60bf39a9",
   "metadata": {},
   "outputs": [
    {
     "name": "stdout",
     "output_type": "stream",
     "text": [
      "Collecting scikit-learn\n",
      "  Downloading scikit_learn-1.6.1-cp39-cp39-macosx_12_0_arm64.whl.metadata (31 kB)\n",
      "Requirement already satisfied: numpy>=1.19.5 in /Users/nehapalak/.pyenv/versions/3.9.13/lib/python3.9/site-packages (from scikit-learn) (2.0.2)\n",
      "Collecting scipy>=1.6.0 (from scikit-learn)\n",
      "  Downloading scipy-1.13.1-cp39-cp39-macosx_12_0_arm64.whl.metadata (60 kB)\n",
      "Collecting joblib>=1.2.0 (from scikit-learn)\n",
      "  Using cached joblib-1.5.2-py3-none-any.whl.metadata (5.6 kB)\n",
      "Collecting threadpoolctl>=3.1.0 (from scikit-learn)\n",
      "  Using cached threadpoolctl-3.6.0-py3-none-any.whl.metadata (13 kB)\n",
      "Downloading scikit_learn-1.6.1-cp39-cp39-macosx_12_0_arm64.whl (11.1 MB)\n",
      "\u001b[2K   \u001b[90m━━━━━━━━━━━━━━━━━━━━━━━━━━━━━━━━━━━━━━━━\u001b[0m \u001b[32m11.1/11.1 MB\u001b[0m \u001b[31m8.9 MB/s\u001b[0m eta \u001b[36m0:00:00\u001b[0m \u001b[36m0:00:01\u001b[0m\n",
      "\u001b[?25hUsing cached joblib-1.5.2-py3-none-any.whl (308 kB)\n",
      "Downloading scipy-1.13.1-cp39-cp39-macosx_12_0_arm64.whl (30.3 MB)\n",
      "\u001b[2K   \u001b[90m━━━━━━━━━━━━━━━━━━━━━━━━━━━━━━━━━━━━━━━━\u001b[0m \u001b[32m30.3/30.3 MB\u001b[0m \u001b[31m11.9 MB/s\u001b[0m eta \u001b[36m0:00:00\u001b[0m00:01\u001b[0m00:01\u001b[0m\n",
      "\u001b[?25hUsing cached threadpoolctl-3.6.0-py3-none-any.whl (18 kB)\n",
      "Installing collected packages: threadpoolctl, scipy, joblib, scikit-learn\n",
      "Successfully installed joblib-1.5.2 scikit-learn-1.6.1 scipy-1.13.1 threadpoolctl-3.6.0\n",
      "\n",
      "\u001b[1m[\u001b[0m\u001b[34;49mnotice\u001b[0m\u001b[1;39;49m]\u001b[0m\u001b[39;49m A new release of pip is available: \u001b[0m\u001b[31;49m24.2\u001b[0m\u001b[39;49m -> \u001b[0m\u001b[32;49m25.2\u001b[0m\n",
      "\u001b[1m[\u001b[0m\u001b[34;49mnotice\u001b[0m\u001b[1;39;49m]\u001b[0m\u001b[39;49m To update, run: \u001b[0m\u001b[32;49mpip install --upgrade pip\u001b[0m\n"
     ]
    }
   ],
   "source": [
    "!pip install scikit-learn\n"
   ]
  },
  {
   "cell_type": "code",
   "execution_count": 12,
   "id": "fdc7fb3b",
   "metadata": {},
   "outputs": [
    {
     "name": "stdout",
     "output_type": "stream",
     "text": [
      "1.6.1\n"
     ]
    }
   ],
   "source": [
    "import sklearn\n",
    "print(sklearn.__version__)\n"
   ]
  },
  {
   "cell_type": "code",
   "execution_count": 13,
   "id": "7ec7c6df",
   "metadata": {},
   "outputs": [],
   "source": [
    "import pandas as pd\n",
    "import numpy as np\n",
    "import matplotlib.pyplot as plt\n",
    "import seaborn as sns\n",
    "from sklearn.preprocessing import StandardScaler\n",
    "\n"
   ]
  },
  {
   "cell_type": "markdown",
   "id": "9943dd27",
   "metadata": {},
   "source": [
    "df2: bank-full.csv is the correct one since its dimension matches with the assignment"
   ]
  },
  {
   "cell_type": "code",
   "execution_count": 3,
   "id": "6dfa9333",
   "metadata": {},
   "outputs": [],
   "source": [
    "circles = pd.read_csv('circles.csv')\n",
    "bank = pd.read_csv('bank-full.csv', sep=';')"
   ]
  },
  {
   "cell_type": "code",
   "execution_count": 36,
   "id": "a55f109e",
   "metadata": {},
   "outputs": [
    {
     "data": {
      "text/plain": [
       "(45211, 17)"
      ]
     },
     "execution_count": 36,
     "metadata": {},
     "output_type": "execute_result"
    }
   ],
   "source": [
    "bank.shape"
   ]
  },
  {
   "cell_type": "code",
   "execution_count": 38,
   "id": "6649e370",
   "metadata": {},
   "outputs": [
    {
     "data": {
      "text/html": [
       "<div>\n",
       "<style scoped>\n",
       "    .dataframe tbody tr th:only-of-type {\n",
       "        vertical-align: middle;\n",
       "    }\n",
       "\n",
       "    .dataframe tbody tr th {\n",
       "        vertical-align: top;\n",
       "    }\n",
       "\n",
       "    .dataframe thead th {\n",
       "        text-align: right;\n",
       "    }\n",
       "</style>\n",
       "<table border=\"1\" class=\"dataframe\">\n",
       "  <thead>\n",
       "    <tr style=\"text-align: right;\">\n",
       "      <th></th>\n",
       "      <th>x</th>\n",
       "      <th>y</th>\n",
       "      <th>class</th>\n",
       "    </tr>\n",
       "  </thead>\n",
       "  <tbody>\n",
       "    <tr>\n",
       "      <th>0</th>\n",
       "      <td>3.15676</td>\n",
       "      <td>116.12252</td>\n",
       "      <td>6</td>\n",
       "    </tr>\n",
       "    <tr>\n",
       "      <th>1</th>\n",
       "      <td>16.14436</td>\n",
       "      <td>16.81660</td>\n",
       "      <td>11</td>\n",
       "    </tr>\n",
       "    <tr>\n",
       "      <th>2</th>\n",
       "      <td>100.31212</td>\n",
       "      <td>64.99025</td>\n",
       "      <td>53</td>\n",
       "    </tr>\n",
       "    <tr>\n",
       "      <th>3</th>\n",
       "      <td>-1.33773</td>\n",
       "      <td>84.81772</td>\n",
       "      <td>4</td>\n",
       "    </tr>\n",
       "    <tr>\n",
       "      <th>4</th>\n",
       "      <td>104.37328</td>\n",
       "      <td>62.42373</td>\n",
       "      <td>53</td>\n",
       "    </tr>\n",
       "  </tbody>\n",
       "</table>\n",
       "</div>"
      ],
      "text/plain": [
       "           x          y  class\n",
       "0    3.15676  116.12252      6\n",
       "1   16.14436   16.81660     11\n",
       "2  100.31212   64.99025     53\n",
       "3   -1.33773   84.81772      4\n",
       "4  104.37328   62.42373     53"
      ]
     },
     "execution_count": 38,
     "metadata": {},
     "output_type": "execute_result"
    }
   ],
   "source": [
    "circles.head()\n"
   ]
  },
  {
   "cell_type": "code",
   "execution_count": 19,
   "id": "7901fa14",
   "metadata": {},
   "outputs": [
    {
     "name": "stdout",
     "output_type": "stream",
     "text": [
      "\n",
      "Shape of dataset: (10000, 3)\n",
      "Dataset Info:\n",
      "<class 'pandas.core.frame.DataFrame'>\n",
      "RangeIndex: 10000 entries, 0 to 9999\n",
      "Data columns (total 3 columns):\n",
      " #   Column  Non-Null Count  Dtype  \n",
      "---  ------  --------------  -----  \n",
      " 0   x       10000 non-null  float64\n",
      " 1   y       10000 non-null  float64\n",
      " 2   class   10000 non-null  int64  \n",
      "dtypes: float64(2), int64(1)\n",
      "memory usage: 234.5 KB\n"
     ]
    }
   ],
   "source": [
    "# Shape of dataset\n",
    "print(\"\\nShape of dataset:\", circles.shape)\n",
    "\n",
    "# Summary info\n",
    "print(\"Dataset Info:\")\n",
    "circles.info()\n"
   ]
  },
  {
   "cell_type": "code",
   "execution_count": 17,
   "id": "41561acf",
   "metadata": {},
   "outputs": [
    {
     "name": "stdout",
     "output_type": "stream",
     "text": [
      "\n",
      "Missing values count per column:\n",
      "x        0\n",
      "y        0\n",
      "class    0\n",
      "dtype: int64\n"
     ]
    }
   ],
   "source": [
    "print(\"\\nMissing values count per column:\")\n",
    "print(circles.isnull().sum())"
   ]
  },
  {
   "cell_type": "code",
   "execution_count": 16,
   "id": "bb36b33c",
   "metadata": {},
   "outputs": [
    {
     "data": {
      "text/html": [
       "<div>\n",
       "<style scoped>\n",
       "    .dataframe tbody tr th:only-of-type {\n",
       "        vertical-align: middle;\n",
       "    }\n",
       "\n",
       "    .dataframe tbody tr th {\n",
       "        vertical-align: top;\n",
       "    }\n",
       "\n",
       "    .dataframe thead th {\n",
       "        text-align: right;\n",
       "    }\n",
       "</style>\n",
       "<table border=\"1\" class=\"dataframe\">\n",
       "  <thead>\n",
       "    <tr style=\"text-align: right;\">\n",
       "      <th></th>\n",
       "      <th>x</th>\n",
       "      <th>y</th>\n",
       "      <th>class</th>\n",
       "    </tr>\n",
       "  </thead>\n",
       "  <tbody>\n",
       "    <tr>\n",
       "      <th>count</th>\n",
       "      <td>10000.000000</td>\n",
       "      <td>10000.000000</td>\n",
       "      <td>10000.000000</td>\n",
       "    </tr>\n",
       "    <tr>\n",
       "      <th>mean</th>\n",
       "      <td>89.981670</td>\n",
       "      <td>90.003827</td>\n",
       "      <td>49.500000</td>\n",
       "    </tr>\n",
       "    <tr>\n",
       "      <th>std</th>\n",
       "      <td>57.457467</td>\n",
       "      <td>57.559719</td>\n",
       "      <td>28.867513</td>\n",
       "    </tr>\n",
       "    <tr>\n",
       "      <th>min</th>\n",
       "      <td>-5.000000</td>\n",
       "      <td>-4.999860</td>\n",
       "      <td>0.000000</td>\n",
       "    </tr>\n",
       "    <tr>\n",
       "      <th>25%</th>\n",
       "      <td>40.237885</td>\n",
       "      <td>40.133840</td>\n",
       "      <td>24.750000</td>\n",
       "    </tr>\n",
       "    <tr>\n",
       "      <th>50%</th>\n",
       "      <td>89.999995</td>\n",
       "      <td>90.000080</td>\n",
       "      <td>49.500000</td>\n",
       "    </tr>\n",
       "    <tr>\n",
       "      <th>75%</th>\n",
       "      <td>139.898800</td>\n",
       "      <td>139.977695</td>\n",
       "      <td>74.250000</td>\n",
       "    </tr>\n",
       "    <tr>\n",
       "      <th>max</th>\n",
       "      <td>184.999920</td>\n",
       "      <td>185.000000</td>\n",
       "      <td>99.000000</td>\n",
       "    </tr>\n",
       "  </tbody>\n",
       "</table>\n",
       "</div>"
      ],
      "text/plain": [
       "                  x             y         class\n",
       "count  10000.000000  10000.000000  10000.000000\n",
       "mean      89.981670     90.003827     49.500000\n",
       "std       57.457467     57.559719     28.867513\n",
       "min       -5.000000     -4.999860      0.000000\n",
       "25%       40.237885     40.133840     24.750000\n",
       "50%       89.999995     90.000080     49.500000\n",
       "75%      139.898800    139.977695     74.250000\n",
       "max      184.999920    185.000000     99.000000"
      ]
     },
     "execution_count": 16,
     "metadata": {},
     "output_type": "execute_result"
    }
   ],
   "source": [
    "#Statistics of the dataset\n",
    "circles.describe()"
   ]
  },
  {
   "cell_type": "code",
   "execution_count": 11,
   "id": "db31c551",
   "metadata": {},
   "outputs": [
    {
     "name": "stdout",
     "output_type": "stream",
     "text": [
      "Column Data Types:\n",
      "\n",
      "x        float64\n",
      "y        float64\n",
      "class      int64\n",
      "dtype: object\n",
      "\n",
      "Unique classes: 100\n",
      "Classes range from 0 to 99\n"
     ]
    }
   ],
   "source": [
    "print(\"Column Data Types:\\n\")\n",
    "print(circles.dtypes)\n",
    "print(\"\\nUnique classes:\", circles['class'].nunique())\n",
    "print(\"Classes range from\", circles['class'].min(), \"to\", circles['class'].max())\n"
   ]
  },
  {
   "cell_type": "code",
   "execution_count": 13,
   "id": "cf3462b6",
   "metadata": {},
   "outputs": [
    {
     "data": {
      "image/png": "[encoded data removed]",
      "text/plain": [
       "<Figure size 1200x500 with 2 Axes>"
      ]
     },
     "metadata": {},
     "output_type": "display_data"
    }
   ],
   "source": [
    "# Distribution of x and y\n",
    "fig, axes = plt.subplots(1, 2, figsize=(12, 5))\n",
    "\n",
    "sns.histplot(circles['x'], bins=30, kde=True, ax=axes[0], color='skyblue')\n",
    "axes[0].set_title(\"Distribution of x\")\n",
    "\n",
    "sns.histplot(circles['y'], bins=30, kde=True, ax=axes[1], color='salmon')\n",
    "axes[1].set_title(\"Distribution of y\")\n",
    "\n",
    "plt.tight_layout()\n",
    "plt.show()\n"
   ]
  },
  {
   "cell_type": "code",
   "execution_count": 20,
   "id": "97b5f757",
   "metadata": {},
   "outputs": [
    {
     "data": {
      "image/png": "[encoded data removed]",
      "text/plain": [
       "<Figure size 800x800 with 1 Axes>"
      ]
     },
     "metadata": {},
     "output_type": "display_data"
    }
   ],
   "source": [
    "#Visualising Circles through scatterplot\n",
    "plt.figure(figsize=(8, 8))\n",
    "sns.scatterplot(data=circles, x='x', y='y', hue='class', palette='tab20', s=20, linewidth=0)\n",
    "plt.title(\"Synthetic Circle Dataset — 100 Circular Clusters\")\n",
    "plt.legend([],[], frameon=False)  # hide legend if too many classes\n",
    "plt.show()\n"
   ]
  },
  {
   "cell_type": "code",
   "execution_count": 21,
   "id": "2f7cb1ca",
   "metadata": {},
   "outputs": [
    {
     "data": {
      "image/png": "[encoded data removed]",
      "text/plain": [
       "<Figure size 400x300 with 2 Axes>"
      ]
     },
     "metadata": {},
     "output_type": "display_data"
    }
   ],
   "source": [
    "#Correlation Analysis\n",
    "corr = circles[['x', 'y']].corr()\n",
    "\n",
    "# Heatmap\n",
    "plt.figure(figsize=(4, 3))\n",
    "sns.heatmap(corr, annot=True, cmap='coolwarm')\n",
    "plt.title(\"Correlation between x and y\")\n",
    "plt.show()\n"
   ]
  },
  {
   "cell_type": "code",
   "execution_count": 22,
   "id": "b8dc1a1a",
   "metadata": {},
   "outputs": [
    {
     "name": "stdout",
     "output_type": "stream",
     "text": [
      "Number of duplicate rows: 0\n",
      "\n",
      "Extreme x values: -5.0 to 184.99992\n",
      "Extreme y values: -4.99986 to 185.0\n"
     ]
    }
   ],
   "source": [
    "#Data Quality Analysis\n",
    "\n",
    "# Duplicate rows\n",
    "print(\"Number of duplicate rows:\", circles.duplicated().sum())\n",
    "\n",
    "# Check for any extreme values (potential outliers)\n",
    "print(\"\\nExtreme x values:\", circles['x'].min(), \"to\", circles['x'].max())\n",
    "print(\"Extreme y values:\", circles['y'].min(), \"to\", circles['y'].max())\n"
   ]
  },
  {
   "cell_type": "markdown",
   "id": "f5641b1c",
   "metadata": {},
   "source": [
    "## Observations made through EDA\n",
    "\n",
    "### SYNTHETIC CIRCLES\n",
    "* 10,000 samples, 2 continuous features (x, y), and 1 target variable (class)\n",
    "\n",
    "* No missing or duplicate values\n",
    "\n",
    "* 'x' and 'y' are evenly distributed across a wide range\n",
    "\n",
    "* 100 balanced classes (each circle has 100 points)\n",
    "\n",
    "* Correlation between x and y ≈ 0 (non-linear pattern)\n",
    "\n",
    "* Visualization confirms 100 circular clusters, with slight overlaps (conflicts) between neighboring circles\n",
    "\n",
    "* Dataset is clean and suitable for clustering experiments\n",
    "\n",
    "\n",
    "### BANK MARKETING\n",
    "\n",
    "\n"
   ]
  },
  {
   "cell_type": "markdown",
   "id": "299c0a4a",
   "metadata": {},
   "source": [
    "# TASK 3: Preprocessing\n",
    "### Synthetic Circles"
   ]
  },
  {
   "cell_type": "code",
   "execution_count": null,
   "id": "be5b9bca",
   "metadata": {},
   "outputs": [],
   "source": [
    "# Preprocessing\n",
    "from sklearn.preprocessing import StandardScaler\n",
    "\n",
    "# Clustering\n",
    "from sklearn.cluster import KMeans, DBSCAN\n",
    "from sklearn.mixture import GaussianMixture\n",
    "\n",
    "# Evaluation metrics\n",
    "from sklearn.metrics import silhouette_score, davies_bouldin_score"
   ]
  },
  {
   "cell_type": "markdown",
   "id": "62c00617",
   "metadata": {},
   "source": [
    "* The dataset has no missing values, so imputation or removal is not needed"
   ]
  },
  {
   "cell_type": "code",
   "execution_count": 4,
   "id": "02aee332",
   "metadata": {},
   "outputs": [
    {
     "data": {
      "application/vnd.microsoft.datawrangler.viewer.v0+json": {
       "columns": [
        {
         "name": "index",
         "rawType": "int64",
         "type": "integer"
        },
        {
         "name": "x",
         "rawType": "float64",
         "type": "float"
        },
        {
         "name": "y",
         "rawType": "float64",
         "type": "float"
        },
        {
         "name": "class_0",
         "rawType": "bool",
         "type": "boolean"
        },
        {
         "name": "class_1",
         "rawType": "bool",
         "type": "boolean"
        },
        {
         "name": "class_2",
         "rawType": "bool",
         "type": "boolean"
        },
        {
         "name": "class_3",
         "rawType": "bool",
         "type": "boolean"
        },
        {
         "name": "class_4",
         "rawType": "bool",
         "type": "boolean"
        },
        {
         "name": "class_5",
         "rawType": "bool",
         "type": "boolean"
        },
        {
         "name": "class_6",
         "rawType": "bool",
         "type": "boolean"
        },
        {
         "name": "class_7",
         "rawType": "bool",
         "type": "boolean"
        },
        {
         "name": "class_8",
         "rawType": "bool",
         "type": "boolean"
        },
        {
         "name": "class_9",
         "rawType": "bool",
         "type": "boolean"
        },
        {
         "name": "class_10",
         "rawType": "bool",
         "type": "boolean"
        },
        {
         "name": "class_11",
         "rawType": "bool",
         "type": "boolean"
        },
        {
         "name": "class_12",
         "rawType": "bool",
         "type": "boolean"
        },
        {
         "name": "class_13",
         "rawType": "bool",
         "type": "boolean"
        },
        {
         "name": "class_14",
         "rawType": "bool",
         "type": "boolean"
        },
        {
         "name": "class_15",
         "rawType": "bool",
         "type": "boolean"
        },
        {
         "name": "class_16",
         "rawType": "bool",
         "type": "boolean"
        },
        {
         "name": "class_17",
         "rawType": "bool",
         "type": "boolean"
        },
        {
         "name": "class_18",
         "rawType": "bool",
         "type": "boolean"
        },
        {
         "name": "class_19",
         "rawType": "bool",
         "type": "boolean"
        },
        {
         "name": "class_20",
         "rawType": "bool",
         "type": "boolean"
        },
        {
         "name": "class_21",
         "rawType": "bool",
         "type": "boolean"
        },
        {
         "name": "class_22",
         "rawType": "bool",
         "type": "boolean"
        },
        {
         "name": "class_23",
         "rawType": "bool",
         "type": "boolean"
        },
        {
         "name": "class_24",
         "rawType": "bool",
         "type": "boolean"
        },
        {
         "name": "class_25",
         "rawType": "bool",
         "type": "boolean"
        },
        {
         "name": "class_26",
         "rawType": "bool",
         "type": "boolean"
        },
        {
         "name": "class_27",
         "rawType": "bool",
         "type": "boolean"
        },
        {
         "name": "class_28",
         "rawType": "bool",
         "type": "boolean"
        },
        {
         "name": "class_29",
         "rawType": "bool",
         "type": "boolean"
        },
        {
         "name": "class_30",
         "rawType": "bool",
         "type": "boolean"
        },
        {
         "name": "class_31",
         "rawType": "bool",
         "type": "boolean"
        },
        {
         "name": "class_32",
         "rawType": "bool",
         "type": "boolean"
        },
        {
         "name": "class_33",
         "rawType": "bool",
         "type": "boolean"
        },
        {
         "name": "class_34",
         "rawType": "bool",
         "type": "boolean"
        },
        {
         "name": "class_35",
         "rawType": "bool",
         "type": "boolean"
        },
        {
         "name": "class_36",
         "rawType": "bool",
         "type": "boolean"
        },
        {
         "name": "class_37",
         "rawType": "bool",
         "type": "boolean"
        },
        {
         "name": "class_38",
         "rawType": "bool",
         "type": "boolean"
        },
        {
         "name": "class_39",
         "rawType": "bool",
         "type": "boolean"
        },
        {
         "name": "class_40",
         "rawType": "bool",
         "type": "boolean"
        },
        {
         "name": "class_41",
         "rawType": "bool",
         "type": "boolean"
        },
        {
         "name": "class_42",
         "rawType": "bool",
         "type": "boolean"
        },
        {
         "name": "class_43",
         "rawType": "bool",
         "type": "boolean"
        },
        {
         "name": "class_44",
         "rawType": "bool",
         "type": "boolean"
        },
        {
         "name": "class_45",
         "rawType": "bool",
         "type": "boolean"
        },
        {
         "name": "class_46",
         "rawType": "bool",
         "type": "boolean"
        },
        {
         "name": "class_47",
         "rawType": "bool",
         "type": "boolean"
        },
        {
         "name": "class_48",
         "rawType": "bool",
         "type": "boolean"
        },
        {
         "name": "class_49",
         "rawType": "bool",
         "type": "boolean"
        },
        {
         "name": "class_50",
         "rawType": "bool",
         "type": "boolean"
        },
        {
         "name": "class_51",
         "rawType": "bool",
         "type": "boolean"
        },
        {
         "name": "class_52",
         "rawType": "bool",
         "type": "boolean"
        },
        {
         "name": "class_53",
         "rawType": "bool",
         "type": "boolean"
        },
        {
         "name": "class_54",
         "rawType": "bool",
         "type": "boolean"
        },
        {
         "name": "class_55",
         "rawType": "bool",
         "type": "boolean"
        },
        {
         "name": "class_56",
         "rawType": "bool",
         "type": "boolean"
        },
        {
         "name": "class_57",
         "rawType": "bool",
         "type": "boolean"
        },
        {
         "name": "class_58",
         "rawType": "bool",
         "type": "boolean"
        },
        {
         "name": "class_59",
         "rawType": "bool",
         "type": "boolean"
        },
        {
         "name": "class_60",
         "rawType": "bool",
         "type": "boolean"
        },
        {
         "name": "class_61",
         "rawType": "bool",
         "type": "boolean"
        },
        {
         "name": "class_62",
         "rawType": "bool",
         "type": "boolean"
        },
        {
         "name": "class_63",
         "rawType": "bool",
         "type": "boolean"
        },
        {
         "name": "class_64",
         "rawType": "bool",
         "type": "boolean"
        },
        {
         "name": "class_65",
         "rawType": "bool",
         "type": "boolean"
        },
        {
         "name": "class_66",
         "rawType": "bool",
         "type": "boolean"
        },
        {
         "name": "class_67",
         "rawType": "bool",
         "type": "boolean"
        },
        {
         "name": "class_68",
         "rawType": "bool",
         "type": "boolean"
        },
        {
         "name": "class_69",
         "rawType": "bool",
         "type": "boolean"
        },
        {
         "name": "class_70",
         "rawType": "bool",
         "type": "boolean"
        },
        {
         "name": "class_71",
         "rawType": "bool",
         "type": "boolean"
        },
        {
         "name": "class_72",
         "rawType": "bool",
         "type": "boolean"
        },
        {
         "name": "class_73",
         "rawType": "bool",
         "type": "boolean"
        },
        {
         "name": "class_74",
         "rawType": "bool",
         "type": "boolean"
        },
        {
         "name": "class_75",
         "rawType": "bool",
         "type": "boolean"
        },
        {
         "name": "class_76",
         "rawType": "bool",
         "type": "boolean"
        },
        {
         "name": "class_77",
         "rawType": "bool",
         "type": "boolean"
        },
        {
         "name": "class_78",
         "rawType": "bool",
         "type": "boolean"
        },
        {
         "name": "class_79",
         "rawType": "bool",
         "type": "boolean"
        },
        {
         "name": "class_80",
         "rawType": "bool",
         "type": "boolean"
        },
        {
         "name": "class_81",
         "rawType": "bool",
         "type": "boolean"
        },
        {
         "name": "class_82",
         "rawType": "bool",
         "type": "boolean"
        },
        {
         "name": "class_83",
         "rawType": "bool",
         "type": "boolean"
        },
        {
         "name": "class_84",
         "rawType": "bool",
         "type": "boolean"
        },
        {
         "name": "class_85",
         "rawType": "bool",
         "type": "boolean"
        },
        {
         "name": "class_86",
         "rawType": "bool",
         "type": "boolean"
        },
        {
         "name": "class_87",
         "rawType": "bool",
         "type": "boolean"
        },
        {
         "name": "class_88",
         "rawType": "bool",
         "type": "boolean"
        },
        {
         "name": "class_89",
         "rawType": "bool",
         "type": "boolean"
        },
        {
         "name": "class_90",
         "rawType": "bool",
         "type": "boolean"
        },
        {
         "name": "class_91",
         "rawType": "bool",
         "type": "boolean"
        },
        {
         "name": "class_92",
         "rawType": "bool",
         "type": "boolean"
        },
        {
         "name": "class_93",
         "rawType": "bool",
         "type": "boolean"
        },
        {
         "name": "class_94",
         "rawType": "bool",
         "type": "boolean"
        },
        {
         "name": "class_95",
         "rawType": "bool",
         "type": "boolean"
        },
        {
         "name": "class_96",
         "rawType": "bool",
         "type": "boolean"
        },
        {
         "name": "class_97",
         "rawType": "bool",
         "type": "boolean"
        },
        {
         "name": "class_98",
         "rawType": "bool",
         "type": "boolean"
        },
        {
         "name": "class_99",
         "rawType": "bool",
         "type": "boolean"
        }
       ],
       "ref": "feedcbf6-2ea8-4641-9e82-aba5acf92f65",
       "rows": [
        [
         "0",
         "3.15676",
         "116.12252",
         "False",
         "False",
         "False",
         "False",
         "False",
         "False",
         "True",
         "False",
         "False",
         "False",
         "False",
         "False",
         "False",
         "False",
         "False",
         "False",
         "False",
         "False",
         "False",
         "False",
         "False",
         "False",
         "False",
         "False",
         "False",
         "False",
         "False",
         "False",
         "False",
         "False",
         "False",
         "False",
         "False",
         "False",
         "False",
         "False",
         "False",
         "False",
         "False",
         "False",
         "False",
         "False",
         "False",
         "False",
         "False",
         "False",
         "False",
         "False",
         "False",
         "False",
         "False",
         "False",
         "False",
         "False",
         "False",
         "False",
         "False",
         "False",
         "False",
         "False",
         "False",
         "False",
         "False",
         "False",
         "False",
         "False",
         "False",
         "False",
         "False",
         "False",
         "False",
         "False",
         "False",
         "False",
         "False",
         "False",
         "False",
         "False",
         "False",
         "False",
         "False",
         "False",
         "False",
         "False",
         "False",
         "False",
         "False",
         "False",
         "False",
         "False",
         "False",
         "False",
         "False",
         "False",
         "False",
         "False",
         "False",
         "False",
         "False",
         "False"
        ],
        [
         "1",
         "16.14436",
         "16.8166",
         "False",
         "False",
         "False",
         "False",
         "False",
         "False",
         "False",
         "False",
         "False",
         "False",
         "False",
         "True",
         "False",
         "False",
         "False",
         "False",
         "False",
         "False",
         "False",
         "False",
         "False",
         "False",
         "False",
         "False",
         "False",
         "False",
         "False",
         "False",
         "False",
         "False",
         "False",
         "False",
         "False",
         "False",
         "False",
         "False",
         "False",
         "False",
         "False",
         "False",
         "False",
         "False",
         "False",
         "False",
         "False",
         "False",
         "False",
         "False",
         "False",
         "False",
         "False",
         "False",
         "False",
         "False",
         "False",
         "False",
         "False",
         "False",
         "False",
         "False",
         "False",
         "False",
         "False",
         "False",
         "False",
         "False",
         "False",
         "False",
         "False",
         "False",
         "False",
         "False",
         "False",
         "False",
         "False",
         "False",
         "False",
         "False",
         "False",
         "False",
         "False",
         "False",
         "False",
         "False",
         "False",
         "False",
         "False",
         "False",
         "False",
         "False",
         "False",
         "False",
         "False",
         "False",
         "False",
         "False",
         "False",
         "False",
         "False",
         "False"
        ],
        [
         "2",
         "100.31212",
         "64.99025",
         "False",
         "False",
         "False",
         "False",
         "False",
         "False",
         "False",
         "False",
         "False",
         "False",
         "False",
         "False",
         "False",
         "False",
         "False",
         "False",
         "False",
         "False",
         "False",
         "False",
         "False",
         "False",
         "False",
         "False",
         "False",
         "False",
         "False",
         "False",
         "False",
         "False",
         "False",
         "False",
         "False",
         "False",
         "False",
         "False",
         "False",
         "False",
         "False",
         "False",
         "False",
         "False",
         "False",
         "False",
         "False",
         "False",
         "False",
         "False",
         "False",
         "False",
         "False",
         "False",
         "False",
         "True",
         "False",
         "False",
         "False",
         "False",
         "False",
         "False",
         "False",
         "False",
         "False",
         "False",
         "False",
         "False",
         "False",
         "False",
         "False",
         "False",
         "False",
         "False",
         "False",
         "False",
         "False",
         "False",
         "False",
         "False",
         "False",
         "False",
         "False",
         "False",
         "False",
         "False",
         "False",
         "False",
         "False",
         "False",
         "False",
         "False",
         "False",
         "False",
         "False",
         "False",
         "False",
         "False",
         "False",
         "False",
         "False",
         "False"
        ],
        [
         "3",
         "-1.33773",
         "84.81772",
         "False",
         "False",
         "False",
         "False",
         "True",
         "False",
         "False",
         "False",
         "False",
         "False",
         "False",
         "False",
         "False",
         "False",
         "False",
         "False",
         "False",
         "False",
         "False",
         "False",
         "False",
         "False",
         "False",
         "False",
         "False",
         "False",
         "False",
         "False",
         "False",
         "False",
         "False",
         "False",
         "False",
         "False",
         "False",
         "False",
         "False",
         "False",
         "False",
         "False",
         "False",
         "False",
         "False",
         "False",
         "False",
         "False",
         "False",
         "False",
         "False",
         "False",
         "False",
         "False",
         "False",
         "False",
         "False",
         "False",
         "False",
         "False",
         "False",
         "False",
         "False",
         "False",
         "False",
         "False",
         "False",
         "False",
         "False",
         "False",
         "False",
         "False",
         "False",
         "False",
         "False",
         "False",
         "False",
         "False",
         "False",
         "False",
         "False",
         "False",
         "False",
         "False",
         "False",
         "False",
         "False",
         "False",
         "False",
         "False",
         "False",
         "False",
         "False",
         "False",
         "False",
         "False",
         "False",
         "False",
         "False",
         "False",
         "False",
         "False"
        ],
        [
         "4",
         "104.37328",
         "62.42373",
         "False",
         "False",
         "False",
         "False",
         "False",
         "False",
         "False",
         "False",
         "False",
         "False",
         "False",
         "False",
         "False",
         "False",
         "False",
         "False",
         "False",
         "False",
         "False",
         "False",
         "False",
         "False",
         "False",
         "False",
         "False",
         "False",
         "False",
         "False",
         "False",
         "False",
         "False",
         "False",
         "False",
         "False",
         "False",
         "False",
         "False",
         "False",
         "False",
         "False",
         "False",
         "False",
         "False",
         "False",
         "False",
         "False",
         "False",
         "False",
         "False",
         "False",
         "False",
         "False",
         "False",
         "True",
         "False",
         "False",
         "False",
         "False",
         "False",
         "False",
         "False",
         "False",
         "False",
         "False",
         "False",
         "False",
         "False",
         "False",
         "False",
         "False",
         "False",
         "False",
         "False",
         "False",
         "False",
         "False",
         "False",
         "False",
         "False",
         "False",
         "False",
         "False",
         "False",
         "False",
         "False",
         "False",
         "False",
         "False",
         "False",
         "False",
         "False",
         "False",
         "False",
         "False",
         "False",
         "False",
         "False",
         "False",
         "False",
         "False"
        ]
       ],
       "shape": {
        "columns": 102,
        "rows": 5
       }
      },
      "text/html": [
       "<div>\n",
       "<style scoped>\n",
       "    .dataframe tbody tr th:only-of-type {\n",
       "        vertical-align: middle;\n",
       "    }\n",
       "\n",
       "    .dataframe tbody tr th {\n",
       "        vertical-align: top;\n",
       "    }\n",
       "\n",
       "    .dataframe thead th {\n",
       "        text-align: right;\n",
       "    }\n",
       "</style>\n",
       "<table border=\"1\" class=\"dataframe\">\n",
       "  <thead>\n",
       "    <tr style=\"text-align: right;\">\n",
       "      <th></th>\n",
       "      <th>x</th>\n",
       "      <th>y</th>\n",
       "      <th>class_0</th>\n",
       "      <th>class_1</th>\n",
       "      <th>class_2</th>\n",
       "      <th>class_3</th>\n",
       "      <th>class_4</th>\n",
       "      <th>class_5</th>\n",
       "      <th>class_6</th>\n",
       "      <th>class_7</th>\n",
       "      <th>...</th>\n",
       "      <th>class_90</th>\n",
       "      <th>class_91</th>\n",
       "      <th>class_92</th>\n",
       "      <th>class_93</th>\n",
       "      <th>class_94</th>\n",
       "      <th>class_95</th>\n",
       "      <th>class_96</th>\n",
       "      <th>class_97</th>\n",
       "      <th>class_98</th>\n",
       "      <th>class_99</th>\n",
       "    </tr>\n",
       "  </thead>\n",
       "  <tbody>\n",
       "    <tr>\n",
       "      <th>0</th>\n",
       "      <td>3.15676</td>\n",
       "      <td>116.12252</td>\n",
       "      <td>False</td>\n",
       "      <td>False</td>\n",
       "      <td>False</td>\n",
       "      <td>False</td>\n",
       "      <td>False</td>\n",
       "      <td>False</td>\n",
       "      <td>True</td>\n",
       "      <td>False</td>\n",
       "      <td>...</td>\n",
       "      <td>False</td>\n",
       "      <td>False</td>\n",
       "      <td>False</td>\n",
       "      <td>False</td>\n",
       "      <td>False</td>\n",
       "      <td>False</td>\n",
       "      <td>False</td>\n",
       "      <td>False</td>\n",
       "      <td>False</td>\n",
       "      <td>False</td>\n",
       "    </tr>\n",
       "    <tr>\n",
       "      <th>1</th>\n",
       "      <td>16.14436</td>\n",
       "      <td>16.81660</td>\n",
       "      <td>False</td>\n",
       "      <td>False</td>\n",
       "      <td>False</td>\n",
       "      <td>False</td>\n",
       "      <td>False</td>\n",
       "      <td>False</td>\n",
       "      <td>False</td>\n",
       "      <td>False</td>\n",
       "      <td>...</td>\n",
       "      <td>False</td>\n",
       "      <td>False</td>\n",
       "      <td>False</td>\n",
       "      <td>False</td>\n",
       "      <td>False</td>\n",
       "      <td>False</td>\n",
       "      <td>False</td>\n",
       "      <td>False</td>\n",
       "      <td>False</td>\n",
       "      <td>False</td>\n",
       "    </tr>\n",
       "    <tr>\n",
       "      <th>2</th>\n",
       "      <td>100.31212</td>\n",
       "      <td>64.99025</td>\n",
       "      <td>False</td>\n",
       "      <td>False</td>\n",
       "      <td>False</td>\n",
       "      <td>False</td>\n",
       "      <td>False</td>\n",
       "      <td>False</td>\n",
       "      <td>False</td>\n",
       "      <td>False</td>\n",
       "      <td>...</td>\n",
       "      <td>False</td>\n",
       "      <td>False</td>\n",
       "      <td>False</td>\n",
       "      <td>False</td>\n",
       "      <td>False</td>\n",
       "      <td>False</td>\n",
       "      <td>False</td>\n",
       "      <td>False</td>\n",
       "      <td>False</td>\n",
       "      <td>False</td>\n",
       "    </tr>\n",
       "    <tr>\n",
       "      <th>3</th>\n",
       "      <td>-1.33773</td>\n",
       "      <td>84.81772</td>\n",
       "      <td>False</td>\n",
       "      <td>False</td>\n",
       "      <td>False</td>\n",
       "      <td>False</td>\n",
       "      <td>True</td>\n",
       "      <td>False</td>\n",
       "      <td>False</td>\n",
       "      <td>False</td>\n",
       "      <td>...</td>\n",
       "      <td>False</td>\n",
       "      <td>False</td>\n",
       "      <td>False</td>\n",
       "      <td>False</td>\n",
       "      <td>False</td>\n",
       "      <td>False</td>\n",
       "      <td>False</td>\n",
       "      <td>False</td>\n",
       "      <td>False</td>\n",
       "      <td>False</td>\n",
       "    </tr>\n",
       "    <tr>\n",
       "      <th>4</th>\n",
       "      <td>104.37328</td>\n",
       "      <td>62.42373</td>\n",
       "      <td>False</td>\n",
       "      <td>False</td>\n",
       "      <td>False</td>\n",
       "      <td>False</td>\n",
       "      <td>False</td>\n",
       "      <td>False</td>\n",
       "      <td>False</td>\n",
       "      <td>False</td>\n",
       "      <td>...</td>\n",
       "      <td>False</td>\n",
       "      <td>False</td>\n",
       "      <td>False</td>\n",
       "      <td>False</td>\n",
       "      <td>False</td>\n",
       "      <td>False</td>\n",
       "      <td>False</td>\n",
       "      <td>False</td>\n",
       "      <td>False</td>\n",
       "      <td>False</td>\n",
       "    </tr>\n",
       "  </tbody>\n",
       "</table>\n",
       "<p>5 rows × 102 columns</p>\n",
       "</div>"
      ],
      "text/plain": [
       "           x          y  class_0  class_1  class_2  class_3  class_4  class_5  \\\n",
       "0    3.15676  116.12252    False    False    False    False    False    False   \n",
       "1   16.14436   16.81660    False    False    False    False    False    False   \n",
       "2  100.31212   64.99025    False    False    False    False    False    False   \n",
       "3   -1.33773   84.81772    False    False    False    False     True    False   \n",
       "4  104.37328   62.42373    False    False    False    False    False    False   \n",
       "\n",
       "   class_6  class_7  ...  class_90  class_91  class_92  class_93  class_94  \\\n",
       "0     True    False  ...     False     False     False     False     False   \n",
       "1    False    False  ...     False     False     False     False     False   \n",
       "2    False    False  ...     False     False     False     False     False   \n",
       "3    False    False  ...     False     False     False     False     False   \n",
       "4    False    False  ...     False     False     False     False     False   \n",
       "\n",
       "   class_95  class_96  class_97  class_98  class_99  \n",
       "0     False     False     False     False     False  \n",
       "1     False     False     False     False     False  \n",
       "2     False     False     False     False     False  \n",
       "3     False     False     False     False     False  \n",
       "4     False     False     False     False     False  \n",
       "\n",
       "[5 rows x 102 columns]"
      ]
     },
     "execution_count": 4,
     "metadata": {},
     "output_type": "execute_result"
    }
   ],
   "source": [
    "# One-hot encode the 'class' column (optional)\n",
    "circles_encoded = pd.get_dummies(circles, columns=['class'])\n",
    "circles_encoded.head()\n"
   ]
  },
  {
   "cell_type": "code",
   "execution_count": 14,
   "id": "1799854e",
   "metadata": {},
   "outputs": [
    {
     "data": {
      "application/vnd.microsoft.datawrangler.viewer.v0+json": {
       "columns": [
        {
         "name": "index",
         "rawType": "int64",
         "type": "integer"
        },
        {
         "name": "x",
         "rawType": "float64",
         "type": "float"
        },
        {
         "name": "y",
         "rawType": "float64",
         "type": "float"
        },
        {
         "name": "class",
         "rawType": "int64",
         "type": "integer"
        }
       ],
       "ref": "075e27ff-00b8-4781-b254-c273c24b60e8",
       "rows": [
        [
         "0",
         "-1.5111917831434525",
         "0.45378953999212623",
         "6"
        ],
        [
         "1",
         "-1.2851419729133051",
         "-1.2715643490982267",
         "11"
        ],
        [
         "2",
         "0.17980198713293857",
         "-0.4345891276896996",
         "53"
        ],
        [
         "3",
         "-1.589418600383073",
         "-0.09010410126506861",
         "4"
        ],
        [
         "4",
         "0.25048667462826224",
         "-0.4791801778851782",
         "53"
        ]
       ],
       "shape": {
        "columns": 3,
        "rows": 5
       }
      },
      "text/html": [
       "<div>\n",
       "<style scoped>\n",
       "    .dataframe tbody tr th:only-of-type {\n",
       "        vertical-align: middle;\n",
       "    }\n",
       "\n",
       "    .dataframe tbody tr th {\n",
       "        vertical-align: top;\n",
       "    }\n",
       "\n",
       "    .dataframe thead th {\n",
       "        text-align: right;\n",
       "    }\n",
       "</style>\n",
       "<table border=\"1\" class=\"dataframe\">\n",
       "  <thead>\n",
       "    <tr style=\"text-align: right;\">\n",
       "      <th></th>\n",
       "      <th>x</th>\n",
       "      <th>y</th>\n",
       "      <th>class</th>\n",
       "    </tr>\n",
       "  </thead>\n",
       "  <tbody>\n",
       "    <tr>\n",
       "      <th>0</th>\n",
       "      <td>-1.511192</td>\n",
       "      <td>0.453790</td>\n",
       "      <td>6</td>\n",
       "    </tr>\n",
       "    <tr>\n",
       "      <th>1</th>\n",
       "      <td>-1.285142</td>\n",
       "      <td>-1.271564</td>\n",
       "      <td>11</td>\n",
       "    </tr>\n",
       "    <tr>\n",
       "      <th>2</th>\n",
       "      <td>0.179802</td>\n",
       "      <td>-0.434589</td>\n",
       "      <td>53</td>\n",
       "    </tr>\n",
       "    <tr>\n",
       "      <th>3</th>\n",
       "      <td>-1.589419</td>\n",
       "      <td>-0.090104</td>\n",
       "      <td>4</td>\n",
       "    </tr>\n",
       "    <tr>\n",
       "      <th>4</th>\n",
       "      <td>0.250487</td>\n",
       "      <td>-0.479180</td>\n",
       "      <td>53</td>\n",
       "    </tr>\n",
       "  </tbody>\n",
       "</table>\n",
       "</div>"
      ],
      "text/plain": [
       "          x         y  class\n",
       "0 -1.511192  0.453790      6\n",
       "1 -1.285142 -1.271564     11\n",
       "2  0.179802 -0.434589     53\n",
       "3 -1.589419 -0.090104      4\n",
       "4  0.250487 -0.479180     53"
      ]
     },
     "execution_count": 14,
     "metadata": {},
     "output_type": "execute_result"
    }
   ],
   "source": [
    "from sklearn.preprocessing import StandardScaler\n",
    "\n",
    "# Initialize scaler\n",
    "scaler = StandardScaler()\n",
    "\n",
    "# Scale x and y\n",
    "circles[['x', 'y']] = scaler.fit_transform(circles[['x', 'y']])\n",
    "\n",
    "# Check scaled values\n",
    "circles.head()\n"
   ]
  },
  {
   "cell_type": "code",
   "execution_count": 15,
   "id": "48206dee",
   "metadata": {},
   "outputs": [],
   "source": [
    "circles['distance_from_origin'] = np.sqrt(circles['x']**2 + circles['y']**2)\n"
   ]
  },
  {
   "cell_type": "markdown",
   "id": "8d6bc35c",
   "metadata": {},
   "source": [
    "* Feature selection not needed since there are only 2 features\n",
    "* Sampling / Undersampling is not needed since dataset is balanced across classes."
   ]
  },
  {
   "cell_type": "markdown",
   "id": "84cc97a3",
   "metadata": {},
   "source": [
    "### Bank Marketing"
   ]
  },
  {
   "cell_type": "markdown",
   "id": "3668ec36",
   "metadata": {},
   "source": [
    "# TASK 4: Clustering Methods\n",
    "### Synthetic Circles"
   ]
  },
  {
   "cell_type": "code",
   "execution_count": 17,
   "id": "c0bc20d5",
   "metadata": {},
   "outputs": [],
   "source": [
    "#Scaling features\n",
    "\n",
    "scaler = StandardScaler()\n",
    "circles[['x', 'y']] = scaler.fit_transform(circles[['x', 'y']])\n",
    "\n"
   ]
  },
  {
   "cell_type": "markdown",
   "id": "323b6533",
   "metadata": {},
   "source": [
    "#### Method 1: K-Means Clustering\n",
    "Step 1a: Choose Hyperparameters\n",
    "\n",
    "* n_clusters = 100 → because the dataset has 100 circles\n",
    "\n",
    "* init = 'k-means++' → good default initialization\n",
    "\n",
    "* random_state = 42 → for reproducibility"
   ]
  },
  {
   "cell_type": "code",
   "execution_count": 18,
   "id": "83c05a54",
   "metadata": {},
   "outputs": [],
   "source": [
    "kmeans = KMeans(n_clusters=100, init='k-means++', random_state=42)\n",
    "kmeans_labels = kmeans.fit_predict(circles[['x', 'y']])\n"
   ]
  },
  {
   "cell_type": "markdown",
   "id": "5ee947b3",
   "metadata": {},
   "source": [
    "Step 1b: Visualize Clusters"
   ]
  },
  {
   "cell_type": "code",
   "execution_count": 19,
   "id": "6cfa1964",
   "metadata": {},
   "outputs": [
    {
     "data": {
      "image/png": "[encoded data removed]",
      "text/plain": [
       "<Figure size 800x800 with 1 Axes>"
      ]
     },
     "metadata": {},
     "output_type": "display_data"
    }
   ],
   "source": [
    "plt.figure(figsize=(8, 8))\n",
    "sns.scatterplot(x=circles['x'], y=circles['y'], hue=kmeans_labels, palette='tab20', s=20, linewidth=0)\n",
    "plt.title(\"K-Means Clustering — Synthetic Circle Dataset\")\n",
    "plt.legend([], [], frameon=False)  # Hide legend for clarity\n",
    "plt.show()\n"
   ]
  },
  {
   "cell_type": "markdown",
   "id": "01b1b590",
   "metadata": {},
   "source": [
    "Step 1c: Evaluate Clusters"
   ]
  },
  {
   "cell_type": "code",
   "execution_count": 20,
   "id": "1d074313",
   "metadata": {},
   "outputs": [
    {
     "name": "stdout",
     "output_type": "stream",
     "text": [
      "K-Means Silhouette Score: 0.590122943393455\n",
      "K-Means Davies-Bouldin Index: 0.5469307901035961\n"
     ]
    }
   ],
   "source": [
    "sil_score = silhouette_score(circles[['x', 'y']], kmeans_labels)\n",
    "db_score = davies_bouldin_score(circles[['x', 'y']], kmeans_labels)\n",
    "\n",
    "print(\"K-Means Silhouette Score:\", sil_score)\n",
    "print(\"K-Means Davies-Bouldin Index:\", db_score)\n"
   ]
  }
 ],
 "metadata": {
  "kernelspec": {
   "display_name": "3.9.13",
   "language": "python",
   "name": "python3"
  },
  "language_info": {
   "codemirror_mode": {
    "name": "ipython",
    "version": 3
   },
   "file_extension": ".py",
   "mimetype": "text/x-python",
   "name": "python",
   "nbconvert_exporter": "python",
   "pygments_lexer": "ipython3",
   "version": "3.9.13"
  }
 },
 "nbformat": 4,
 "nbformat_minor": 5
}
