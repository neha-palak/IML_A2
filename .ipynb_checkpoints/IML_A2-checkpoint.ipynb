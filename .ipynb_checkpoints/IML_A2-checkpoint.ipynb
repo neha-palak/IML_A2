{
 "cells": [
  {
   "cell_type": "markdown",
   "id": "31b1c178-0f01-43c8-8171-1fda54d532db",
   "metadata": {},
   "source": [
    "Introduction to Machine Learning\n",
    "Assignment 2: Clustering and Dimensionality Reduction\n",
    "\n",
    "Group Members:\n",
    "Jahnavi Agrawal (1020231300)\n",
    "Neha Palak (1020231795)"
   ]
  },
  {
   "cell_type": "code",
   "execution_count": 1,
   "id": "d2c8e385-3804-4a92-97aa-63d2da047d37",
   "metadata": {},
   "outputs": [
    {
     "name": "stdout",
     "output_type": "stream",
     "text": [
      "hiiiii\n"
     ]
    }
   ],
   "source": [
    "print(\"hiiiii\")"
   ]
  },
  {
   "cell_type": "code",
   "execution_count": null,
   "id": "14a8e41a-5f60-44b1-9449-a62b9bba4a0d",
   "metadata": {},
   "outputs": [],
   "source": []
  }
 ],
 "metadata": {
  "kernelspec": {
   "display_name": "Python 3 (ipykernel)",
   "language": "python",
   "name": "python3"
  },
  "language_info": {
   "codemirror_mode": {
    "name": "ipython",
    "version": 3
   },
   "file_extension": ".py",
   "mimetype": "text/x-python",
   "name": "python",
   "nbconvert_exporter": "python",
   "pygments_lexer": "ipython3",
   "version": "3.12.0"
  }
 },
 "nbformat": 4,
 "nbformat_minor": 5
}
